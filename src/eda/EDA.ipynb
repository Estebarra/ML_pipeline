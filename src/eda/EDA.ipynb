{
 "cells": [
  {
   "cell_type": "code",
   "execution_count": 1,
   "id": "e81cdb96-53d8-45d2-9ccb-c50692b0eca4",
   "metadata": {},
   "outputs": [],
   "source": [
    "import pandas as pd\n",
    "import wandb"
   ]
  },
  {
   "cell_type": "code",
   "execution_count": 2,
   "id": "178a61f5-e764-4479-a6b9-0811e8767c82",
   "metadata": {},
   "outputs": [
    {
     "name": "stderr",
     "output_type": "stream",
     "text": [
      "\u001b[34m\u001b[1mwandb\u001b[0m: Currently logged in as: \u001b[33ma01796858\u001b[0m (\u001b[33ma01796858-tecnol-gico-de-monterrey\u001b[0m) to \u001b[32mhttps://api.wandb.ai\u001b[0m. Use \u001b[1m`wandb login --relogin`\u001b[0m to force relogin\n"
     ]
    },
    {
     "data": {
      "text/html": [],
      "text/plain": [
       "<IPython.core.display.HTML object>"
      ]
     },
     "metadata": {},
     "output_type": "display_data"
    },
    {
     "data": {
      "text/html": [
       "Tracking run with wandb version 0.22.1"
      ],
      "text/plain": [
       "<IPython.core.display.HTML object>"
      ]
     },
     "metadata": {},
     "output_type": "display_data"
    },
    {
     "data": {
      "text/html": [
       "Run data is saved locally in <code>/app/src/eda/wandb/run-20251005_062032-ldx4l7zg</code>"
      ],
      "text/plain": [
       "<IPython.core.display.HTML object>"
      ]
     },
     "metadata": {},
     "output_type": "display_data"
    },
    {
     "data": {
      "text/html": [
       "Syncing run <strong><a href='https://wandb.ai/a01796858-tecnol-gico-de-monterrey/my_ml_project/runs/ldx4l7zg' target=\"_blank\">lunar-planet-4</a></strong> to <a href='https://wandb.ai/a01796858-tecnol-gico-de-monterrey/my_ml_project' target=\"_blank\">Weights & Biases</a> (<a href='https://wandb.me/developer-guide' target=\"_blank\">docs</a>)<br>"
      ],
      "text/plain": [
       "<IPython.core.display.HTML object>"
      ]
     },
     "metadata": {},
     "output_type": "display_data"
    },
    {
     "data": {
      "text/html": [
       " View project at <a href='https://wandb.ai/a01796858-tecnol-gico-de-monterrey/my_ml_project' target=\"_blank\">https://wandb.ai/a01796858-tecnol-gico-de-monterrey/my_ml_project</a>"
      ],
      "text/plain": [
       "<IPython.core.display.HTML object>"
      ]
     },
     "metadata": {},
     "output_type": "display_data"
    },
    {
     "data": {
      "text/html": [
       " View run at <a href='https://wandb.ai/a01796858-tecnol-gico-de-monterrey/my_ml_project/runs/ldx4l7zg' target=\"_blank\">https://wandb.ai/a01796858-tecnol-gico-de-monterrey/my_ml_project/runs/ldx4l7zg</a>"
      ],
      "text/plain": [
       "<IPython.core.display.HTML object>"
      ]
     },
     "metadata": {},
     "output_type": "display_data"
    }
   ],
   "source": [
    "run = wandb.init(project=\"my_ml_project\", group=\"eda\")\n",
    "local_path = wandb.use_artifact(\"student_entry_performance_modified.csv:latest\").file()\n",
    "df = pd.read_csv(local_path)"
   ]
  },
  {
   "cell_type": "code",
   "execution_count": 3,
   "id": "d01ff88f-75d7-4e14-94ed-454eaad7c290",
   "metadata": {},
   "outputs": [
    {
     "data": {
      "text/html": [
       "<div>\n",
       "<style scoped>\n",
       "    .dataframe tbody tr th:only-of-type {\n",
       "        vertical-align: middle;\n",
       "    }\n",
       "\n",
       "    .dataframe tbody tr th {\n",
       "        vertical-align: top;\n",
       "    }\n",
       "\n",
       "    .dataframe thead th {\n",
       "        text-align: right;\n",
       "    }\n",
       "</style>\n",
       "<table border=\"1\" class=\"dataframe\">\n",
       "  <thead>\n",
       "    <tr style=\"text-align: right;\">\n",
       "      <th></th>\n",
       "      <th>Performance</th>\n",
       "      <th>Gender</th>\n",
       "      <th>Caste</th>\n",
       "      <th>coaching</th>\n",
       "      <th>time</th>\n",
       "      <th>Class_ten_education</th>\n",
       "      <th>twelve_education</th>\n",
       "      <th>medium</th>\n",
       "      <th>Class_ X_Percentage</th>\n",
       "      <th>Class_XII_Percentage</th>\n",
       "      <th>Father_occupation</th>\n",
       "      <th>Mother_occupation</th>\n",
       "      <th>mixed_type_col</th>\n",
       "    </tr>\n",
       "  </thead>\n",
       "  <tbody>\n",
       "    <tr>\n",
       "      <th>0</th>\n",
       "      <td>Excellent</td>\n",
       "      <td>male</td>\n",
       "      <td>General</td>\n",
       "      <td>NO</td>\n",
       "      <td>one</td>\n",
       "      <td>SEBA</td>\n",
       "      <td>AHSEC</td>\n",
       "      <td>ENGLISH</td>\n",
       "      <td>Excellent</td>\n",
       "      <td>Excellent</td>\n",
       "      <td>DOCTOR</td>\n",
       "      <td>OTHERS</td>\n",
       "      <td>unknown</td>\n",
       "    </tr>\n",
       "    <tr>\n",
       "      <th>1</th>\n",
       "      <td>Excellent</td>\n",
       "      <td>MALE</td>\n",
       "      <td>OBC</td>\n",
       "      <td>WA</td>\n",
       "      <td>TWO</td>\n",
       "      <td>SEBA</td>\n",
       "      <td>AHSEC</td>\n",
       "      <td>OTHERS</td>\n",
       "      <td>Excellent</td>\n",
       "      <td>Excellent</td>\n",
       "      <td>SCHOOL_TEACHER</td>\n",
       "      <td>HOUSE_WIFE</td>\n",
       "      <td>666</td>\n",
       "    </tr>\n",
       "    <tr>\n",
       "      <th>2</th>\n",
       "      <td>Excellent</td>\n",
       "      <td>male</td>\n",
       "      <td>OBC</td>\n",
       "      <td>OA</td>\n",
       "      <td>TWO</td>\n",
       "      <td>others</td>\n",
       "      <td>CBSE</td>\n",
       "      <td>ENGLISH</td>\n",
       "      <td>Excellent</td>\n",
       "      <td>Excellent</td>\n",
       "      <td>BUSINESS</td>\n",
       "      <td>HOUSE_WIFE</td>\n",
       "      <td>unknown</td>\n",
       "    </tr>\n",
       "    <tr>\n",
       "      <th>3</th>\n",
       "      <td>Excellent</td>\n",
       "      <td>male</td>\n",
       "      <td>General</td>\n",
       "      <td>WA</td>\n",
       "      <td>one</td>\n",
       "      <td>SEBA</td>\n",
       "      <td>AHSEC</td>\n",
       "      <td>OTHERS</td>\n",
       "      <td>Excellent</td>\n",
       "      <td>eXCELLENT</td>\n",
       "      <td>SCHOOL_TEACHER</td>\n",
       "      <td>school_teacher</td>\n",
       "      <td>275</td>\n",
       "    </tr>\n",
       "    <tr>\n",
       "      <th>4</th>\n",
       "      <td>Excellent</td>\n",
       "      <td>male</td>\n",
       "      <td>General</td>\n",
       "      <td>OA</td>\n",
       "      <td>two</td>\n",
       "      <td>NaN</td>\n",
       "      <td>CBSE</td>\n",
       "      <td>ENGLISH</td>\n",
       "      <td>Excellent</td>\n",
       "      <td>Excellent</td>\n",
       "      <td>COLLEGE_TEACHER</td>\n",
       "      <td>HOUSE_WIFE</td>\n",
       "      <td>6</td>\n",
       "    </tr>\n",
       "  </tbody>\n",
       "</table>\n",
       "</div>"
      ],
      "text/plain": [
       "  Performance  Gender    Caste coaching   time Class_ten_education  \\\n",
       "0   Excellent    male  General       NO   one                 SEBA   \n",
       "1   Excellent   MALE       OBC       WA    TWO                SEBA   \n",
       "2   Excellent    male      OBC       OA    TWO             others    \n",
       "3   Excellent    male  General       WA   one                 SEBA   \n",
       "4   Excellent    male  General       OA   two                  NaN   \n",
       "\n",
       "  twelve_education   medium Class_ X_Percentage Class_XII_Percentage  \\\n",
       "0            AHSEC  ENGLISH           Excellent            Excellent   \n",
       "1            AHSEC   OTHERS           Excellent            Excellent   \n",
       "2             CBSE  ENGLISH           Excellent            Excellent   \n",
       "3            AHSEC   OTHERS           Excellent           eXCELLENT    \n",
       "4             CBSE  ENGLISH           Excellent            Excellent   \n",
       "\n",
       "  Father_occupation Mother_occupation mixed_type_col  \n",
       "0            DOCTOR            OTHERS        unknown  \n",
       "1    SCHOOL_TEACHER        HOUSE_WIFE            666  \n",
       "2          BUSINESS        HOUSE_WIFE        unknown  \n",
       "3    SCHOOL_TEACHER   school_teacher             275  \n",
       "4   COLLEGE_TEACHER        HOUSE_WIFE              6  "
      ]
     },
     "execution_count": 3,
     "metadata": {},
     "output_type": "execute_result"
    }
   ],
   "source": [
    "df.head()"
   ]
  },
  {
   "cell_type": "code",
   "execution_count": 4,
   "id": "040dccd0-b63e-4e82-af13-171769b19e33",
   "metadata": {},
   "outputs": [
    {
     "data": {
      "text/html": [],
      "text/plain": [
       "<IPython.core.display.HTML object>"
      ]
     },
     "metadata": {},
     "output_type": "display_data"
    },
    {
     "data": {
      "text/html": [
       " View run <strong style=\"color:#cdcd00\">lunar-planet-4</strong> at: <a href='https://wandb.ai/a01796858-tecnol-gico-de-monterrey/my_ml_project/runs/ldx4l7zg' target=\"_blank\">https://wandb.ai/a01796858-tecnol-gico-de-monterrey/my_ml_project/runs/ldx4l7zg</a><br> View project at: <a href='https://wandb.ai/a01796858-tecnol-gico-de-monterrey/my_ml_project' target=\"_blank\">https://wandb.ai/a01796858-tecnol-gico-de-monterrey/my_ml_project</a><br>Synced 5 W&B file(s), 0 media file(s), 0 artifact file(s) and 0 other file(s)"
      ],
      "text/plain": [
       "<IPython.core.display.HTML object>"
      ]
     },
     "metadata": {},
     "output_type": "display_data"
    },
    {
     "data": {
      "text/html": [
       "Find logs at: <code>./wandb/run-20251005_062032-ldx4l7zg/logs</code>"
      ],
      "text/plain": [
       "<IPython.core.display.HTML object>"
      ]
     },
     "metadata": {},
     "output_type": "display_data"
    }
   ],
   "source": [
    "run.finish()"
   ]
  },
  {
   "cell_type": "code",
   "execution_count": null,
   "id": "517995b2-e486-4778-949c-4628049a26bf",
   "metadata": {},
   "outputs": [],
   "source": []
  }
 ],
 "metadata": {
  "kernelspec": {
   "display_name": "Python 3 (ipykernel)",
   "language": "python",
   "name": "python3"
  },
  "language_info": {
   "codemirror_mode": {
    "name": "ipython",
    "version": 3
   },
   "file_extension": ".py",
   "mimetype": "text/x-python",
   "name": "python",
   "nbconvert_exporter": "python",
   "pygments_lexer": "ipython3",
   "version": "3.13.7"
  }
 },
 "nbformat": 4,
 "nbformat_minor": 5
}
